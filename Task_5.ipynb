{
 "cells": [
  {
   "cell_type": "markdown",
   "id": "66191b3c",
   "metadata": {},
   "source": [
    "## Code for checking the upper limit of cv2.threshold()"
   ]
  },
  {
   "cell_type": "code",
   "execution_count": 1,
   "id": "284336df",
   "metadata": {},
   "outputs": [],
   "source": [
    "from __future__ import print_function\n",
    "import cv2 as cv\n",
    "import argparse\n",
    "\n",
    "max_value = 255\n",
    "max_type = 4\n",
    "max_binary_value = 255\n",
    "trackbar_type = 'Type: \\n 0: Binary \\n 1: Binary Inverted \\n 2: Truncate \\n 3: To Zero \\n 4: To Zero Inverted'\n",
    "trackbar_value = 'Value'\n",
    "window_name = 'Threshold Demo'\n",
    "\n",
    "## [Threshold_Demo]\n",
    "def Threshold_Demo(val):\n",
    "    #0: Binary\n",
    "    #1: Binary Inverted\n",
    "    #2: Threshold Truncated\n",
    "    #3: Threshold to Zero\n",
    "    #4: Threshold to Zero Inverted\n",
    "    threshold_type = cv.getTrackbarPos(trackbar_type, window_name)\n",
    "    threshold_value = cv.getTrackbarPos(trackbar_value, window_name)\n",
    "    _, dst = cv.threshold(src, threshold_value, max_binary_value, threshold_type )\n",
    "    cv.imshow(window_name, dst)\n",
    "## [Threshold_Demo]\n",
    "\n",
    "parser = argparse.ArgumentParser(description='Basic Thresholding Operations')\n",
    "parser.add_argument('--input', help='Path to input image.', default='images.jpg')\n",
    "args = parser.parse_args(args=[])\n",
    "\n",
    "## [load]\n",
    "# Load an image\n",
    "src = cv.imread(cv.samples.findFile(args.input))\n",
    "if src is None:\n",
    "    print('Could not open or find the image: ', args.input)\n",
    "    exit(0)\n",
    "## [load]\n",
    "\n",
    "## [window]\n",
    "# Create a window to display results\n",
    "cv.namedWindow(window_name)\n",
    "## [window]\n",
    "\n",
    "## [trackbar]\n",
    "# Create Trackbar to choose type of Threshold\n",
    "cv.createTrackbar(trackbar_type, window_name , 3, max_type, Threshold_Demo)\n",
    "# Create Trackbar to choose Threshold value\n",
    "cv.createTrackbar(trackbar_value, window_name , 0, max_value, Threshold_Demo)\n",
    "## [trackbar]\n",
    "\n",
    "# Call the function to initialize\n",
    "Threshold_Demo(0)\n",
    "# Wait until user finishes program\n",
    "cv.waitKey(0)\n",
    "cv.destroyAllWindows()"
   ]
  },
  {
   "cell_type": "markdown",
   "id": "eeeb4995",
   "metadata": {},
   "source": [
    "From the center of the image, in all directions, increase the RGB values of the pixels in a manner that, each pixel from the center, the percentage drops by 1%. i.e. the center pixel's RGB will increase by 50%, and the next pixels in x and y directions will be 49%. This goes on and on until the increase becomes 0 %."
   ]
  },
  {
   "cell_type": "code",
   "execution_count": 2,
   "id": "c1b268eb",
   "metadata": {},
   "outputs": [
    {
     "name": "stdout",
     "output_type": "stream",
     "text": [
      "width:   201\n",
      "height:  251\n",
      "channel: 3\n"
     ]
    }
   ],
   "source": [
    "import cv2\n",
    "\n",
    "img_1 = cv2.imread(\"images.jpg\")\n",
    "h, w, c = img_1.shape\n",
    "print('width:  ', w)\n",
    "print('height: ', h)\n",
    "print('channel:', c)"
   ]
  },
  {
   "cell_type": "code",
   "execution_count": 3,
   "id": "de82cbc7",
   "metadata": {},
   "outputs": [
    {
     "name": "stdout",
     "output_type": "stream",
     "text": [
      "213\n",
      "206\n",
      "198\n"
     ]
    }
   ],
   "source": [
    "b,g,r = (img_1[0,0])\n",
    "print (r)\n",
    "print (g)\n",
    "print (b)"
   ]
  },
  {
   "cell_type": "code",
   "execution_count": 4,
   "id": "5a43633d",
   "metadata": {},
   "outputs": [
    {
     "name": "stdout",
     "output_type": "stream",
     "text": [
      "200\n",
      "128\n",
      "103\n"
     ]
    }
   ],
   "source": [
    "b,g,r = (img_1[124,99])\n",
    "print (r)\n",
    "print (g)\n",
    "print (b)"
   ]
  },
  {
   "cell_type": "code",
   "execution_count": 5,
   "id": "a6873545",
   "metadata": {},
   "outputs": [
    {
     "name": "stdout",
     "output_type": "stream",
     "text": [
      "204\n",
      "137\n",
      "108\n"
     ]
    }
   ],
   "source": [
    "b,g,r = (img_1[125,100])\n",
    "print (r)\n",
    "print (g)\n",
    "print (b)"
   ]
  },
  {
   "cell_type": "code",
   "execution_count": 6,
   "id": "e08500f3",
   "metadata": {},
   "outputs": [
    {
     "name": "stdout",
     "output_type": "stream",
     "text": [
      "231\n",
      "171\n",
      "134\n"
     ]
    }
   ],
   "source": [
    "b,g,r = (img_1[127,102])\n",
    "print (r)\n",
    "print (g)\n",
    "print (b)"
   ]
  },
  {
   "cell_type": "code",
   "execution_count": 7,
   "id": "9160e5a9",
   "metadata": {},
   "outputs": [
    {
     "name": "stdout",
     "output_type": "stream",
     "text": [
      "234\n",
      "190\n",
      "165\n"
     ]
    }
   ],
   "source": [
    "b,g,r = (img_1[128,103])\n",
    "print (r)\n",
    "print (g)\n",
    "print (b)"
   ]
  },
  {
   "cell_type": "code",
   "execution_count": 8,
   "id": "562bf7ad",
   "metadata": {},
   "outputs": [
    {
     "name": "stdout",
     "output_type": "stream",
     "text": [
      "228\n",
      "181\n",
      "153\n"
     ]
    }
   ],
   "source": [
    "b,g,r = (img_1[129,104])\n",
    "print (r)\n",
    "print (g)\n",
    "print (b)"
   ]
  },
  {
   "cell_type": "code",
   "execution_count": 9,
   "id": "b45ddd70",
   "metadata": {},
   "outputs": [
    {
     "name": "stdout",
     "output_type": "stream",
     "text": [
      "242\n",
      "189\n",
      "155\n"
     ]
    }
   ],
   "source": [
    "b,g,r = (img_1[130,105])\n",
    "print (r)\n",
    "print (g)\n",
    "print (b)"
   ]
  },
  {
   "cell_type": "code",
   "execution_count": 10,
   "id": "f5b15e38",
   "metadata": {},
   "outputs": [
    {
     "name": "stdout",
     "output_type": "stream",
     "text": [
      "243\n",
      "236\n",
      "226\n"
     ]
    }
   ],
   "source": [
    "b,g,r = (img_1[249,199])\n",
    "print (r)\n",
    "print (g)\n",
    "print (b)"
   ]
  },
  {
   "cell_type": "code",
   "execution_count": 11,
   "id": "be846341",
   "metadata": {},
   "outputs": [
    {
     "data": {
      "text/plain": [
       "True"
      ]
     },
     "execution_count": 11,
     "metadata": {},
     "output_type": "execute_result"
    }
   ],
   "source": [
    "imgcolor = cv2.cvtColor(img_1, cv2.COLOR_BGR2GRAY)\n",
    "\n",
    "#applying threshold #4: Threshold to zero inverted\n",
    "val, th4 = cv2.threshold(imgcolor, 198, 255, cv2.THRESH_TOZERO_INV)\n",
    "# display the images\n",
    "cv2.imshow('Original', img_1)\n",
    "cv2.imshow('THRESH_TOZERO_INV', th4)\n",
    "cv2.waitKey(0)\n",
    "cv2.destroyAllWindows() \n",
    "cv2.imwrite(\"enhanced_th4.jpg\", th4)"
   ]
  },
  {
   "cell_type": "code",
   "execution_count": 12,
   "id": "c9c7e9a6",
   "metadata": {},
   "outputs": [],
   "source": [
    "img_2 = cv2.imread(\"enhanced_th4.jpg\")"
   ]
  },
  {
   "cell_type": "markdown",
   "id": "c2c1d342",
   "metadata": {},
   "source": [
    "### Checking pixel values of different co-ordinates"
   ]
  },
  {
   "cell_type": "code",
   "execution_count": 13,
   "id": "2f314afb",
   "metadata": {},
   "outputs": [
    {
     "name": "stdout",
     "output_type": "stream",
     "text": [
      "0\n",
      "0\n",
      "0\n"
     ]
    }
   ],
   "source": [
    "r,g,b = (img_2[0,0])\n",
    "print (r)\n",
    "print (g)\n",
    "print (b)"
   ]
  },
  {
   "cell_type": "code",
   "execution_count": 23,
   "id": "1db9f424",
   "metadata": {},
   "outputs": [
    {
     "name": "stdout",
     "output_type": "stream",
     "text": [
      "0\n",
      "0\n",
      "0\n"
     ]
    }
   ],
   "source": [
    "r,g,b = (img_2[50,25])\n",
    "print (r)\n",
    "print (g)\n",
    "print (b)"
   ]
  },
  {
   "cell_type": "code",
   "execution_count": 24,
   "id": "73f5fc7c",
   "metadata": {},
   "outputs": [
    {
     "name": "stdout",
     "output_type": "stream",
     "text": [
      "32\n",
      "32\n",
      "32\n"
     ]
    }
   ],
   "source": [
    "r,g,b = (img_2[75,50])\n",
    "print (r)\n",
    "print (g)\n",
    "print (b)"
   ]
  },
  {
   "cell_type": "code",
   "execution_count": 25,
   "id": "29e97afb",
   "metadata": {},
   "outputs": [
    {
     "name": "stdout",
     "output_type": "stream",
     "text": [
      "35\n",
      "35\n",
      "35\n"
     ]
    }
   ],
   "source": [
    "r,g,b = (img_2[76,51])\n",
    "print (r)\n",
    "print (g)\n",
    "print (b)"
   ]
  },
  {
   "cell_type": "code",
   "execution_count": 26,
   "id": "81e79ddb",
   "metadata": {},
   "outputs": [
    {
     "name": "stdout",
     "output_type": "stream",
     "text": [
      "130\n",
      "130\n",
      "130\n"
     ]
    }
   ],
   "source": [
    "r,g,b = (img_2[100,75])\n",
    "print (r)\n",
    "print (g)\n",
    "print (b)"
   ]
  },
  {
   "cell_type": "code",
   "execution_count": 29,
   "id": "c944583e",
   "metadata": {},
   "outputs": [
    {
     "name": "stdout",
     "output_type": "stream",
     "text": [
      "147\n",
      "147\n",
      "147\n"
     ]
    }
   ],
   "source": [
    "r,g,b = (img_2[124,99])\n",
    "print (r)\n",
    "print (g)\n",
    "print (b)"
   ]
  },
  {
   "cell_type": "code",
   "execution_count": 27,
   "id": "fbf6ab3e",
   "metadata": {},
   "outputs": [
    {
     "name": "stdout",
     "output_type": "stream",
     "text": [
      "154\n",
      "154\n",
      "154\n"
     ]
    }
   ],
   "source": [
    "r,g,b = (img_2[125,100])\n",
    "print (r)\n",
    "print (g)\n",
    "print (b)"
   ]
  },
  {
   "cell_type": "code",
   "execution_count": 15,
   "id": "50cb1419",
   "metadata": {},
   "outputs": [
    {
     "name": "stdout",
     "output_type": "stream",
     "text": [
      "171\n",
      "171\n",
      "171\n"
     ]
    }
   ],
   "source": [
    "r,g,b = (img_2[126,101])\n",
    "print (r)\n",
    "print (g)\n",
    "print (b)"
   ]
  },
  {
   "cell_type": "code",
   "execution_count": 28,
   "id": "c5fb4983",
   "metadata": {},
   "outputs": [
    {
     "name": "stdout",
     "output_type": "stream",
     "text": [
      "185\n",
      "185\n",
      "185\n"
     ]
    }
   ],
   "source": [
    "r,g,b = (img_2[127,102])\n",
    "print (r)\n",
    "print (g)\n",
    "print (b)"
   ]
  },
  {
   "cell_type": "code",
   "execution_count": 31,
   "id": "21838014",
   "metadata": {},
   "outputs": [
    {
     "name": "stdout",
     "output_type": "stream",
     "text": [
      "0\n",
      "0\n",
      "0\n"
     ]
    }
   ],
   "source": [
    "r,g,b = (img_2[128,103])\n",
    "print (r)\n",
    "print (g)\n",
    "print (b)"
   ]
  },
  {
   "cell_type": "code",
   "execution_count": 30,
   "id": "17806a0c",
   "metadata": {},
   "outputs": [
    {
     "name": "stdout",
     "output_type": "stream",
     "text": [
      "1\n",
      "1\n",
      "1\n"
     ]
    }
   ],
   "source": [
    "r,g,b = (img_2[130,105])\n",
    "print (r)\n",
    "print (g)\n",
    "print (b)"
   ]
  },
  {
   "cell_type": "code",
   "execution_count": 19,
   "id": "ddb6fc6d",
   "metadata": {},
   "outputs": [
    {
     "name": "stdout",
     "output_type": "stream",
     "text": [
      "0\n",
      "0\n",
      "0\n"
     ]
    }
   ],
   "source": [
    "r,g,b = (img_2[249,199])\n",
    "print (r)\n",
    "print (g)\n",
    "print (b)"
   ]
  },
  {
   "cell_type": "code",
   "execution_count": null,
   "id": "5a93a163",
   "metadata": {},
   "outputs": [],
   "source": []
  }
 ],
 "metadata": {
  "kernelspec": {
   "display_name": "Python 3",
   "language": "python",
   "name": "python3"
  },
  "language_info": {
   "codemirror_mode": {
    "name": "ipython",
    "version": 3
   },
   "file_extension": ".py",
   "mimetype": "text/x-python",
   "name": "python",
   "nbconvert_exporter": "python",
   "pygments_lexer": "ipython3",
   "version": "3.8.8"
  }
 },
 "nbformat": 4,
 "nbformat_minor": 5
}
